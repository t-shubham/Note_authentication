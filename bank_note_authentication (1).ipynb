{
 "cells": [
  {
   "cell_type": "markdown",
   "metadata": {},
   "source": [
    "## Bank Note Authentication"
   ]
  },
  {
   "cell_type": "code",
   "execution_count": 65,
   "metadata": {},
   "outputs": [
    {
     "name": "stdout",
     "output_type": "stream",
     "text": [
      "      variance  skewness   curtosis  entropy  class\n",
      "1240   -3.5510   1.89550   0.186500 -2.44090      1\n",
      "703     1.3114   4.54620   2.293500  0.22541      0\n",
      "821    -4.0173  -8.31230  12.454700 -1.43750      1\n",
      "1081   -5.1190   6.64860  -0.049987 -6.52060      1\n",
      "37      3.6289   0.81322   1.627700  0.77627      0\n"
     ]
    }
   ],
   "source": [
    "import numpy as np \n",
    "import matplotlib.pyplot as plt\n",
    "import pandas as pd\n",
    "from sklearn.utils import shuffle\n",
    "\n",
    "data = pd.read_csv('BankNote_Authentication.csv')\n",
    "data = data.sample(frac=1,random_state=1) #to shufffle the data\n",
    "print(data.head())"
   ]
  },
  {
   "cell_type": "code",
   "execution_count": 66,
   "metadata": {},
   "outputs": [
    {
     "name": "stdout",
     "output_type": "stream",
     "text": [
      "      bias_inp  variance  skewness   curtosis  entropy\n",
      "1240         1   -3.5510   1.89550   0.186500 -2.44090\n",
      "703          1    1.3114   4.54620   2.293500  0.22541\n",
      "821          1   -4.0173  -8.31230  12.454700 -1.43750\n",
      "1081         1   -5.1190   6.64860  -0.049987 -6.52060\n",
      "37           1    3.6289   0.81322   1.627700  0.77627\n"
     ]
    }
   ],
   "source": [
    "x =  data.drop('class',axis =1) # feature matrix/data/variable\n",
    "x.insert(loc=0, column='bias_inp', value=1) #adding bias input all 1 to features\n",
    "y = data['class']   # labels\n",
    "print(x.head())"
   ]
  },
  {
   "cell_type": "code",
   "execution_count": 67,
   "metadata": {},
   "outputs": [],
   "source": [
    "x = x.to_numpy()  # dataframe to numpy array\n",
    "y = y.to_numpy()"
   ]
  },
  {
   "cell_type": "markdown",
   "metadata": {},
   "source": [
    "### Data Split:"
   ]
  },
  {
   "cell_type": "code",
   "execution_count": 68,
   "metadata": {},
   "outputs": [
    {
     "name": "stdout",
     "output_type": "stream",
     "text": [
      "(1097, 5) (1097,)\n",
      "(275, 5) (275,)\n"
     ]
    }
   ],
   "source": [
    "from sklearn.model_selection import train_test_split\n",
    "\n",
    "x_train, x_test, y_train, y_test = train_test_split(x,y, test_size=0.2, random_state=42)\n",
    "print(x_train.shape,y_train.shape)\n",
    "print(x_test.shape,y_test.shape)"
   ]
  },
  {
   "cell_type": "markdown",
   "metadata": {},
   "source": [
    "### Feature Normalization:"
   ]
  },
  {
   "cell_type": "code",
   "execution_count": 69,
   "metadata": {},
   "outputs": [],
   "source": [
    "from sklearn.preprocessing import StandardScaler\n",
    "sc = StandardScaler()\n",
    "x_train = sc.fit_transform(x_train)\n",
    "x_test = sc.transform(x_test)"
   ]
  },
  {
   "cell_type": "markdown",
   "metadata": {},
   "source": [
    "## Logistic Regression"
   ]
  },
  {
   "cell_type": "markdown",
   "metadata": {},
   "source": [
    "###  Training:"
   ]
  },
  {
   "cell_type": "code",
   "execution_count": 70,
   "metadata": {},
   "outputs": [],
   "source": [
    "def LR_compute_cost(w):\n",
    "    # calculate logistic loss\n",
    "    z = np.dot(x_train,w)\n",
    "    h = 1 / (1 + np.exp(-1*z))\n",
    "    epsilon = 1e-20\n",
    "    h[h==0] = epsilon\n",
    "    h[h==1] = epsilon\n",
    "    j = -1 * (y_train*np.log(h)+(1-y_train)*np.log(1-h))\n",
    "    cost = np.sum(j)/(n)\n",
    "    return cost"
   ]
  },
  {
   "cell_type": "code",
   "execution_count": 71,
   "metadata": {},
   "outputs": [],
   "source": [
    "def LR_cost_gradient(w):\n",
    "    z = np.dot(x_train,w)\n",
    "    h = 1 / (1 + np.exp(-1*z))\n",
    "    grad_j = (np.dot(x_train.T,h-y_train))\n",
    "    return grad_j/n"
   ]
  },
  {
   "cell_type": "code",
   "execution_count": 97,
   "metadata": {},
   "outputs": [],
   "source": [
    "n = x_train.shape[0]\n",
    "np.random.seed(42)\n",
    "alpha = 1\n",
    "w = np.random.normal(0,1,size=x_train.shape[1])\n",
    "\n",
    "obj = []\n",
    "\n",
    "for i in range(300):\n",
    "    grad_j = LR_cost_gradient(w)\n",
    "    w = w - (alpha) * (grad_j)\n",
    "    J = LR_compute_cost(w)\n",
    "    obj.append(J)"
   ]
  },
  {
   "cell_type": "code",
   "execution_count": 98,
   "metadata": {},
   "outputs": [
    {
     "name": "stdout",
     "output_type": "stream",
     "text": [
      "Trained weights are:\n",
      " [ 0.49671415 -4.54686719 -3.94885871 -3.91506325  0.42230226]\n"
     ]
    },
    {
     "data": {
      "image/png": "[encoded data removed]",
      "text/plain": [
       "<Figure size 432x288 with 1 Axes>"
      ]
     },
     "metadata": {
      "needs_background": "light"
     },
     "output_type": "display_data"
    }
   ],
   "source": [
    "plt.title('Training error vs epochs:')\n",
    "plt.plot(obj);\n",
    "print('Trained weights are:\\n',w)"
   ]
  },
  {
   "cell_type": "markdown",
   "metadata": {},
   "source": [
    "### Prediction on test data:"
   ]
  },
  {
   "cell_type": "code",
   "execution_count": 99,
   "metadata": {},
   "outputs": [],
   "source": [
    "z = np.dot(x_test,w)\n",
    "y_pred = 1 / (1 + np.exp(-1*z))\n",
    "y_pred[y_pred >= 0.5] = 1\n",
    "y_pred[y_pred < 0.5] = 0"
   ]
  },
  {
   "cell_type": "markdown",
   "metadata": {},
   "source": [
    "### Model Evaluation:"
   ]
  },
  {
   "cell_type": "code",
   "execution_count": 100,
   "metadata": {},
   "outputs": [
    {
     "name": "stdout",
     "output_type": "stream",
     "text": [
      "Model Accuracy: 96.36363636363636 %\n"
     ]
    }
   ],
   "source": [
    "print('Model Accuracy:',np.mean(y_pred==y_test)*100,'%')"
   ]
  },
  {
   "cell_type": "markdown",
   "metadata": {},
   "source": [
    "**Confusion matrix:**"
   ]
  },
  {
   "cell_type": "code",
   "execution_count": 95,
   "metadata": {},
   "outputs": [
    {
     "name": "stdout",
     "output_type": "stream",
     "text": [
      "[[115.   0.]\n",
      " [ 10. 150.]]\n"
     ]
    }
   ],
   "source": [
    "TP,FN,FP,TN = np.zeros(4)\n",
    "for i in range(y_test.shape[0]):\n",
    "    if y_pred[i]==1 and y_test[i]==1: # predicted=1 & true=1\n",
    "        TP +=1  \n",
    "    elif y_pred[i]==0 and y_test[i]==1: # predicted=0 & true=1\n",
    "        FN +=1 \n",
    "    elif y_pred[i]==1 and y_test[i]==0: # predicted=1 & true=0\n",
    "        FP +=1 \n",
    "    elif y_pred[i]==0 and y_test[i]==0: # predicted=0 & true=0\n",
    "        TN +=1 \n",
    "confusion_matrix = np.array([[TP,FN],[FP,TN]])\n",
    "print(confusion_matrix)"
   ]
  },
  {
   "cell_type": "code",
   "execution_count": 96,
   "metadata": {},
   "outputs": [
    {
     "name": "stdout",
     "output_type": "stream",
     "text": [
      "Accuracy:\t 0.9636363636363636\n",
      "Recall:\t\t 1.0\n",
      "Specificity:\t 0.9375\n",
      "Precision:\t 0.92\n",
      "F1_score:\t 0.9583333333333334\n"
     ]
    }
   ],
   "source": [
    "Accuracy = (TP+TN)/(TP+TN+FP+FN)\n",
    "print('Accuracy:\\t',Accuracy)\n",
    "Recall = (TP)/(TP+FN)\n",
    "print('Recall:\\t\\t',Recall)\n",
    "Specificity = (TN)/(TN+FP)\n",
    "print('Specificity:\\t',Specificity)\n",
    "Precision = (TP)/(TP+FP)\n",
    "print('Precision:\\t',Precision)\n",
    "F1_score = 2*(Precision * Recall)/(Precision + Recall)\n",
    "print('F1_score:\\t',F1_score)"
   ]
  },
  {
   "cell_type": "markdown",
   "metadata": {},
   "source": [
    "## Support Vector Machine:"
   ]
  },
  {
   "cell_type": "markdown",
   "metadata": {},
   "source": [
    "###  Training:"
   ]
  },
  {
   "cell_type": "code",
   "execution_count": 78,
   "metadata": {},
   "outputs": [],
   "source": [
    "def svm_compute_cost(w):\n",
    "    # calculate hinge loss\n",
    "    distances = 1 - y_train * (np.dot(x_train, w))\n",
    "    distances[distances < 0] = 0  # equivalent to max(0, distance)\n",
    "    hinge_loss = (np.sum(distances) / n)\n",
    "\n",
    "    # calculate cost\n",
    "    cost = (1 / 2) * np.dot(w, w) + reg_strength * hinge_loss\n",
    "    return cost"
   ]
  },
  {
   "cell_type": "code",
   "execution_count": 79,
   "metadata": {},
   "outputs": [],
   "source": [
    "def svm_cost_gradient(w):\n",
    "    # if only one example is passed (eg. in case of SGD)\n",
    "    distance = 1 - (y_train * np.dot(x_train, w))\n",
    "    grad_j = np.zeros(len(w))\n",
    "\n",
    "    for ind,d in enumerate(distance):\n",
    "        if max(0, d) == 0:\n",
    "            di = w \n",
    "        else:\n",
    "            di = w  - (reg_strength * y_train[ind] * x_train[ind])\n",
    "        grad_j = grad_j + di  \n",
    "    return grad_j/n"
   ]
  },
  {
   "cell_type": "code",
   "execution_count": 80,
   "metadata": {},
   "outputs": [],
   "source": [
    "n = x_train.shape[0]\n",
    "reg_strength = 10000\n",
    "np.random.seed(42)\n",
    "alpha = 0.000001\n",
    "w = np.random.normal(0,1,size=x_train.shape[1])\n",
    "\n",
    "obj = []\n",
    "\n",
    "for i in range(10000):\n",
    "    grad_j = svm_cost_gradient(w)\n",
    "    w = w - (alpha) * (grad_j)\n",
    "    J = svm_compute_cost(w)\n",
    "    obj.append(J)"
   ]
  },
  {
   "cell_type": "code",
   "execution_count": 81,
   "metadata": {},
   "outputs": [
    {
     "name": "stdout",
     "output_type": "stream",
     "text": [
      "Trained weights are:\n",
      " [ 0.49177176 -1.60704144 -1.75739379 -1.57020835 -0.01659724]\n"
     ]
    },
    {
     "data": {
      "image/png": "[encoded data removed]",
      "text/plain": [
       "<Figure size 432x288 with 1 Axes>"
      ]
     },
     "metadata": {
      "needs_background": "light"
     },
     "output_type": "display_data"
    }
   ],
   "source": [
    "plt.title('Training error vs epochs:')\n",
    "plt.plot(obj);\n",
    "print('Trained weights are:\\n',w)"
   ]
  },
  {
   "cell_type": "markdown",
   "metadata": {},
   "source": [
    "### Prediction on test data:"
   ]
  },
  {
   "cell_type": "code",
   "execution_count": 82,
   "metadata": {
    "scrolled": false
   },
   "outputs": [],
   "source": [
    "y_pred = np.dot(x_test,w)\n",
    "y_pred[y_pred>0] = 1\n",
    "y_pred[y_pred<0] = 0"
   ]
  },
  {
   "cell_type": "markdown",
   "metadata": {},
   "source": [
    "### Model Evaluation:"
   ]
  },
  {
   "cell_type": "code",
   "execution_count": 83,
   "metadata": {},
   "outputs": [
    {
     "name": "stdout",
     "output_type": "stream",
     "text": [
      "Model Accuracy: 96.0 %\n"
     ]
    }
   ],
   "source": [
    "print('Model Accuracy:',np.mean(y_pred==y_test)*100,'%')"
   ]
  },
  {
   "cell_type": "markdown",
   "metadata": {},
   "source": [
    "**Confusion matrix:**"
   ]
  },
  {
   "cell_type": "code",
   "execution_count": 84,
   "metadata": {},
   "outputs": [
    {
     "name": "stdout",
     "output_type": "stream",
     "text": [
      "[[115.   0.]\n",
      " [ 11. 149.]]\n"
     ]
    }
   ],
   "source": [
    "\n",
    "TP,FN,FP,TN = np.zeros(4)\n",
    "for i in range(y_test.shape[0]):\n",
    "    if y_pred[i]==1 and y_test[i]==1: # predicted=1 & true=1\n",
    "        TP +=1  \n",
    "    elif y_pred[i]==0 and y_test[i]==1: # predicted=0 & true=1\n",
    "        FN +=1 \n",
    "    elif y_pred[i]==1 and y_test[i]==0: # predicted=1 & true=0\n",
    "        FP +=1 \n",
    "    elif y_pred[i]==0 and y_test[i]==0: # predicted=0 & true=0\n",
    "        TN +=1 \n",
    "confusion_matrix = np.array([[TP,FN],[FP,TN]])\n",
    "print(confusion_matrix)"
   ]
  },
  {
   "cell_type": "code",
   "execution_count": 85,
   "metadata": {},
   "outputs": [
    {
     "name": "stdout",
     "output_type": "stream",
     "text": [
      "Accuracy:\t 0.96\n",
      "Recall:\t\t 1.0\n",
      "Specificity:\t 0.93125\n",
      "Precision:\t 0.9126984126984127\n",
      "F1_score:\t 0.9543568464730291\n"
     ]
    }
   ],
   "source": [
    "Accuracy = (TP+TN)/(TP+TN+FP+FN)\n",
    "print('Accuracy:\\t',Accuracy)\n",
    "Recall = (TP)/(TP+FN)\n",
    "print('Recall:\\t\\t',Recall)\n",
    "Specificity = (TN)/(TN+FP)\n",
    "print('Specificity:\\t',Specificity)\n",
    "Precision = (TP)/(TP+FP)\n",
    "print('Precision:\\t',Precision)\n",
    "F1_score = 2*(Precision * Recall)/(Precision + Recall)\n",
    "print('F1_score:\\t',F1_score)"
   ]
  },
  {
   "cell_type": "code",
   "execution_count": null,
   "metadata": {},
   "outputs": [],
   "source": []
  }
 ],
 "metadata": {
  "kernelspec": {
   "display_name": "Python 3",
   "language": "python",
   "name": "python3"
  },
  "language_info": {
   "codemirror_mode": {
    "name": "ipython",
    "version": 3
   },
   "file_extension": ".py",
   "mimetype": "text/x-python",
   "name": "python",
   "nbconvert_exporter": "python",
   "pygments_lexer": "ipython3",
   "version": "3.8.3"
  }
 },
 "nbformat": 4,
 "nbformat_minor": 5
}
